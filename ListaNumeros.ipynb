{
 "cells": [
  {
   "cell_type": "code",
   "execution_count": 1,
   "id": "8ba54518-aa75-4607-8042-8fa714f5822f",
   "metadata": {},
   "outputs": [],
   "source": [
    "lista = [0, 1, 2, 3, 4, 5, 6, 7, 8, 9, 10, 11, 12, 13 ,14 ,15]"
   ]
  },
  {
   "cell_type": "code",
   "execution_count": 5,
   "id": "aad4627f-cc2a-40a5-ba9b-3e80599864eb",
   "metadata": {},
   "outputs": [
    {
     "data": {
      "text/plain": [
       "[15, 14, 13, 12, 11, 10, 9, 8, 7, 6, 5, 4, 3, 2, 1, 0]"
      ]
     },
     "execution_count": 5,
     "metadata": {},
     "output_type": "execute_result"
    }
   ],
   "source": [
    "lista[::-1]"
   ]
  },
  {
   "cell_type": "code",
   "execution_count": 6,
   "id": "15204881-2eb7-40f4-a56f-48ee4a364e01",
   "metadata": {},
   "outputs": [
    {
     "data": {
      "text/plain": [
       "[1, 2, 3, 4, 5, 6, 7, 8, 9]"
      ]
     },
     "execution_count": 6,
     "metadata": {},
     "output_type": "execute_result"
    }
   ],
   "source": [
    "lista[1:10]"
   ]
  },
  {
   "cell_type": "code",
   "execution_count": 7,
   "id": "659fe749-e60a-49f7-a78e-588e5ffa3431",
   "metadata": {},
   "outputs": [
    {
     "data": {
      "text/plain": [
       "[1, 3, 5, 7, 9, 11, 13, 15]"
      ]
     },
     "execution_count": 7,
     "metadata": {},
     "output_type": "execute_result"
    }
   ],
   "source": [
    "lista[1::2]"
   ]
  },
  {
   "cell_type": "code",
   "execution_count": null,
   "id": "c5965fd2-b04b-446a-9912-cc485608d569",
   "metadata": {},
   "outputs": [],
   "source": []
  }
 ],
 "metadata": {
  "kernelspec": {
   "display_name": "Python 3 (ipykernel)",
   "language": "python",
   "name": "python3"
  },
  "language_info": {
   "codemirror_mode": {
    "name": "ipython",
    "version": 3
   },
   "file_extension": ".py",
   "mimetype": "text/x-python",
   "name": "python",
   "nbconvert_exporter": "python",
   "pygments_lexer": "ipython3",
   "version": "3.11.2"
  }
 },
 "nbformat": 4,
 "nbformat_minor": 5
}
